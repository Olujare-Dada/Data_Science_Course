{
 "cells": [
  {
   "cell_type": "markdown",
   "id": "5350c8de",
   "metadata": {},
   "source": [
    "# Statistics, Numpy, Basic Charts"
   ]
  },
  {
   "cell_type": "markdown",
   "id": "87a0be63",
   "metadata": {},
   "source": [
    "### Numpy"
   ]
  },
  {
   "cell_type": "markdown",
   "id": "d4a07961",
   "metadata": {},
   "source": [
    "So far, we have worked with the primitive array-types in python: Lists and Tuples. These array types, however, have very limited mathematical capabilities and as a result cannot perform certain tasks required for machine learning. \n",
    "\n",
    "In steps Numpy arrays. Numpy arrays are used to perform complex mathematical analysis on various arrays. But why do we need to perform complex calculations on arrays?\n",
    "\n",
    "Numpy can be used to find general descriptive statistical figures like mean, median, mode, and so on, on column vectors. In using advanced machine learning packages such as Keras and Tensorflow, for designing Artificial Neural Networks, an understanding of Numpy is key. Also, in image and signal processing, numpy is of inestimable value. Most colored images can be represented as 3-D arrays. Lists could be used to make these arrays but performing any sort of mathematics on the lists is either overly convoluted or not possible. Numpy also sorts this out as well. Signals like radio signals or just general speech can be easily processed using numpy as numpy can create as many array dimensions to represent each component of the signal.\n",
    "\n",
    "3 reading materials have been provided in the links below for further reading on NUmpy. In case any of the links says you need to subscribe in order to gain access, simply subscribe and you gain free access to the article.\n",
    "\n",
    "1. https://towardsdatascience.com/21-numpy-functions-that-will-boost-your-data-analysis-process-1671fb35215\n",
    "\n",
    "2. https://medium.com/swlh/5-powerful-numpy-functions-for-beginners-20f4cdb49de9\n",
    "\n",
    "3. https://www.machinelearningplus.com/python/101-numpy-exercises-python/\n"
   ]
  },
  {
   "cell_type": "code",
   "execution_count": null,
   "id": "ef091825",
   "metadata": {},
   "outputs": [],
   "source": []
  },
  {
   "cell_type": "markdown",
   "id": "1fa09226",
   "metadata": {},
   "source": [
    "### Examples of using Numpy\n",
    "\n"
   ]
  },
  {
   "cell_type": "markdown",
   "id": "338689ff",
   "metadata": {},
   "source": [
    "Creating arrays: NumPy is commonly used to create arrays, which are multidimensional objects that can hold a variety of data types. Here's an example:"
   ]
  },
  {
   "cell_type": "markdown",
   "id": "5ec4dfa4",
   "metadata": {},
   "source": [
    "**1. Creating an array: NumPy can be used to create arrays of various dimensions and shapes.**"
   ]
  },
  {
   "cell_type": "code",
   "execution_count": 3,
   "id": "ac84e4ac",
   "metadata": {},
   "outputs": [
    {
     "name": "stdout",
     "output_type": "stream",
     "text": [
      "[1 2 3]\n"
     ]
    }
   ],
   "source": [
    "import numpy as np\n",
    "a = np.array([1, 2, 3])\n",
    "print(a)\n"
   ]
  },
  {
   "cell_type": "markdown",
   "id": "3c90947a",
   "metadata": {},
   "source": [
    "**See how simiilar it is to a list?**"
   ]
  },
  {
   "cell_type": "code",
   "execution_count": 3,
   "id": "3ec68da4",
   "metadata": {},
   "outputs": [
    {
     "name": "stdout",
     "output_type": "stream",
     "text": [
      "[[ 3  4  4]\n",
      " [ 2  2  8]\n",
      " [ 6  9 10]]\n"
     ]
    }
   ],
   "source": [
    "import numpy as np\n",
    "b = np.array([\n",
    "    \n",
    "    [3,4, 4],\n",
    "    [2, 2, 8],\n",
    "    [6, 9, 10]\n",
    "\n",
    "]\n",
    ")\n",
    "print(b)\n"
   ]
  },
  {
   "cell_type": "code",
   "execution_count": 5,
   "id": "3e7ec91f",
   "metadata": {},
   "outputs": [
    {
     "data": {
      "text/plain": [
       "(3, 3)"
      ]
     },
     "execution_count": 5,
     "metadata": {},
     "output_type": "execute_result"
    }
   ],
   "source": [
    "b.shape"
   ]
  },
  {
   "cell_type": "code",
   "execution_count": null,
   "id": "6fb1fc62",
   "metadata": {},
   "outputs": [],
   "source": []
  },
  {
   "cell_type": "code",
   "execution_count": null,
   "id": "d7967de8",
   "metadata": {},
   "outputs": [],
   "source": [
    "# Creating a 1D array\n",
    "a = np.array([1, 2, 3, 4])\n",
    "\n",
    "# Creating a 2D array\n",
    "b = np.array([[1, 2], [3, 4]])\n",
    "\n",
    "# Creating a 3D array\n",
    "c = np.array([[[1, 2], [3, 4]], [[5, 6], [7, 8]]])"
   ]
  },
  {
   "cell_type": "code",
   "execution_count": null,
   "id": "829b6cd1",
   "metadata": {},
   "outputs": [],
   "source": []
  },
  {
   "cell_type": "markdown",
   "id": "707e302e",
   "metadata": {},
   "source": [
    "A list can be used to perform some of the operations in Numpy but lists are not as efficient. We shall see this efficiency comparison later. For now, we shall see other operations we can perform in Numpy."
   ]
  },
  {
   "cell_type": "code",
   "execution_count": null,
   "id": "3c76b7bb",
   "metadata": {},
   "outputs": [],
   "source": []
  },
  {
   "cell_type": "code",
   "execution_count": null,
   "id": "89ce031f",
   "metadata": {},
   "outputs": [],
   "source": []
  },
  {
   "cell_type": "markdown",
   "id": "fddc2e69",
   "metadata": {},
   "source": [
    "**2. Reshaping an array: NumPy provides a function to reshape an existing array into a new shape.**"
   ]
  },
  {
   "cell_type": "code",
   "execution_count": 5,
   "id": "e1d75105",
   "metadata": {},
   "outputs": [
    {
     "name": "stdout",
     "output_type": "stream",
     "text": [
      "[[1 2 3]\n",
      " [4 5 6]]\n",
      "[[1 2 3 4 5 6]]\n",
      "[[1]\n",
      " [2]\n",
      " [3]\n",
      " [4]\n",
      " [5]\n",
      " [6]]\n"
     ]
    }
   ],
   "source": [
    "a = np.array([[1, 2, 3], [4, 5, 6]])\n",
    "\n",
    "# Reshaping the array to a single row\n",
    "b = a.reshape(1, 6)\n",
    "\n",
    "# Reshaping the array to a single column\n",
    "c = a.reshape(6, 1)\n",
    "\n",
    "\n",
    "print(a)\n",
    "print(b)\n",
    "print(c)"
   ]
  },
  {
   "cell_type": "markdown",
   "id": "4aa3c0b5",
   "metadata": {},
   "source": [
    "When reshaping an array in numpy, there are a few restrictions that you should keep in mind:\n",
    "\n",
    "1. The total number of elements in the original array must be the same as the total number of elements in the reshaped array. In other words, the product of the shape of the original array must be equal to the product of the shape of the reshaped array.\n",
    "\n",
    "2. The new shape must be compatible with the original shape. This means that the reshaped array must have the same number of elements as the original array, and the elements must be arranged in a way that makes sense for the new shape. For example, you cannot reshape a 1D array into a 2D array with more rows than elements in the original array.\n",
    "\n",
    "3. If one of the dimensions in the new shape is -1, numpy will automatically calculate the correct size to maintain the total number of elements in the original array. For example, if you have a 1D array with 12 elements, you can reshape it into a 2D array with 6 rows and -1 columns, and numpy will automatically calculate that the resulting array should have 6 columns.\n",
    "\n",
    "4. Reshaping does not change the order of the elements in the original array. For example, if you have a 1D array with elements [0, 1, 2, 3, 4, 5] and you reshape it into a 2D array with shape (2, 3), the resulting array will have elements [[0, 1, 2], [3, 4, 5]]. The order of the elements is preserved, but the way they are arranged in memory changes."
   ]
  },
  {
   "cell_type": "code",
   "execution_count": null,
   "id": "7b810645",
   "metadata": {},
   "outputs": [],
   "source": []
  },
  {
   "cell_type": "code",
   "execution_count": null,
   "id": "05c193cc",
   "metadata": {},
   "outputs": [],
   "source": []
  },
  {
   "cell_type": "markdown",
   "id": "226cc21e",
   "metadata": {},
   "source": [
    "**3. Array indexing and slicing: NumPy provides various indexing and slicing techniques to access the elements of an array.**"
   ]
  },
  {
   "cell_type": "code",
   "execution_count": null,
   "id": "70d1d50e",
   "metadata": {},
   "outputs": [],
   "source": [
    "a = np.array([1, 2, 3, 4, 5])\n",
    "\n",
    "# Accessing the first element\n",
    "b = a[0]\n",
    "\n",
    "# Accessing the last element\n",
    "c = a[-1]\n",
    "\n",
    "# Accessing elements from index 1 to 3\n",
    "d = a[1:4]\n"
   ]
  },
  {
   "cell_type": "code",
   "execution_count": null,
   "id": "30465fbf",
   "metadata": {},
   "outputs": [],
   "source": []
  },
  {
   "cell_type": "code",
   "execution_count": null,
   "id": "1c3ee2dd",
   "metadata": {},
   "outputs": [],
   "source": []
  },
  {
   "cell_type": "markdown",
   "id": "9c03a7ad",
   "metadata": {},
   "source": [
    "**4. Element-wise arithmetic operations: NumPy provides functions to perform arithmetic operations on array elements in an element-wise manner.**"
   ]
  },
  {
   "cell_type": "code",
   "execution_count": null,
   "id": "9605427e",
   "metadata": {},
   "outputs": [],
   "source": [
    "a = np.array([1, 2, 3])\n",
    "b = np.array([4, 5, 6])\n",
    "\n",
    "# Adding two arrays element-wise\n",
    "c = a + b\n",
    "\n",
    "# Subtracting two arrays element-wise\n",
    "d = a - b\n",
    "\n",
    "# Multiplying two arrays element-wise\n",
    "e = a * b\n",
    "\n",
    "# Dividing two arrays element-wise\n",
    "f = a / b\n"
   ]
  },
  {
   "cell_type": "code",
   "execution_count": null,
   "id": "bbc90f98",
   "metadata": {},
   "outputs": [],
   "source": []
  },
  {
   "cell_type": "code",
   "execution_count": null,
   "id": "cd8114ef",
   "metadata": {},
   "outputs": [],
   "source": []
  },
  {
   "cell_type": "markdown",
   "id": "c32c6638",
   "metadata": {},
   "source": [
    "**5. Linear algebra operations: NumPy provides functions for performing various linear algebra operations on arrays, such as dot product, matrix multiplication, and determinant.**"
   ]
  },
  {
   "cell_type": "code",
   "execution_count": null,
   "id": "770ca615",
   "metadata": {},
   "outputs": [],
   "source": [
    "a = np.array([[1, 2], [3, 4]])\n",
    "b = np.array([[5, 6], [7, 8]])\n",
    "\n",
    "# Dot product of two arrays\n",
    "c = np.dot(a, b)\n",
    "\n",
    "# Matrix multiplication of two arrays\n",
    "d = np.matmul(a, b)\n",
    "\n",
    "# Determinant of a square array\n",
    "e = np.linalg.det(a)\n"
   ]
  },
  {
   "cell_type": "code",
   "execution_count": null,
   "id": "5dbb1cf5",
   "metadata": {},
   "outputs": [],
   "source": []
  },
  {
   "cell_type": "code",
   "execution_count": null,
   "id": "ea354453",
   "metadata": {},
   "outputs": [],
   "source": []
  },
  {
   "cell_type": "markdown",
   "id": "c57d3107",
   "metadata": {},
   "source": [
    "**6. Statistical operations: NumPy provides functions for performing various statistical operations on arrays, such as mean, median, and standard deviation.**"
   ]
  },
  {
   "cell_type": "code",
   "execution_count": null,
   "id": "4acfb5d0",
   "metadata": {},
   "outputs": [],
   "source": [
    "a = np.array([1, 2, 3, 4, 5])\n",
    "\n",
    "# Mean of array elements\n",
    "b = np.mean(a)\n",
    "\n",
    "# Median of array elements\n",
    "c = np.median(a)\n",
    "\n",
    "# Standard deviation of array elements\n",
    "d = np.std(a)\n"
   ]
  },
  {
   "cell_type": "code",
   "execution_count": null,
   "id": "57fce60a",
   "metadata": {},
   "outputs": [],
   "source": []
  },
  {
   "cell_type": "code",
   "execution_count": null,
   "id": "e7a76bcf",
   "metadata": {},
   "outputs": [],
   "source": []
  },
  {
   "cell_type": "markdown",
   "id": "53b6fcbb",
   "metadata": {},
   "source": [
    "**7. Broadcasting: NumPy provides broadcasting functionality that allows arithmetic operations to be performed on arrays of different shapes.**"
   ]
  },
  {
   "cell_type": "code",
   "execution_count": null,
   "id": "c5f97f92",
   "metadata": {},
   "outputs": [],
   "source": [
    "a = np.array([1, 2, 3])\n",
    "b = 2\n",
    "\n",
    "# Multiplying an array with a scalar value\n",
    "c = a * b\n"
   ]
  },
  {
   "cell_type": "code",
   "execution_count": null,
   "id": "2c936ddc",
   "metadata": {},
   "outputs": [],
   "source": []
  },
  {
   "cell_type": "code",
   "execution_count": null,
   "id": "90e61cbd",
   "metadata": {},
   "outputs": [],
   "source": []
  },
  {
   "cell_type": "code",
   "execution_count": null,
   "id": "ea4b6445",
   "metadata": {},
   "outputs": [],
   "source": []
  },
  {
   "cell_type": "markdown",
   "id": "c8b403a8",
   "metadata": {},
   "source": [
    "These operations and many more can be done on numpy, making it a very valuable asset in data manipulation and complex calculations. But why choose numpy when it can be mimicked using a list?\n",
    "\n",
    "### Why Numpy over LIsts?\n",
    "\n",
    "Numpy arrays and Python lists are both used to store and manipulate data in Python. However, there are several differences between the two:\n",
    "\n",
    "1. Data type: NumPy arrays can only store elements of a single data type, while Python lists can store elements of different data types.\n",
    "\n",
    "2. Memory efficiency: NumPy arrays are more memory efficient than Python lists, especially for large data sets. This is because NumPy arrays are homogeneous and can be stored in a contiguous block of memory, while Python lists are heterogeneous and require multiple blocks of memory.\n",
    "\n",
    "3. Speed: NumPy operations are generally faster than equivalent operations performed on Python lists, especially for large data sets. This is because NumPy uses optimized C code under the hood.\n",
    "\n",
    "4. Broadcasting: NumPy allows arithmetic operations to be performed on arrays of different shapes using broadcasting, while this is not possible with Python lists.\n",
    "\n",
    "5. Indexing and slicing: NumPy provides more advanced indexing and slicing capabilities than Python lists, such as boolean indexing, fancy indexing, and multidimensional indexing.\n",
    "\n",
    "6. Operations: NumPy provides built-in functions for various mathematical and statistical operations, while Python lists require loops or the use of external libraries to perform the same operations.\n",
    "\n",
    "\n",
    "\n",
    "Here are some examples that demonstrate some of these differences:"
   ]
  },
  {
   "cell_type": "code",
   "execution_count": null,
   "id": "af9e56a6",
   "metadata": {},
   "outputs": [],
   "source": [
    "# Creating a list and a NumPy array\n",
    "lst = [1, 2, 3, 4, 5]\n",
    "arr = np.array([1, 2, 3, 4, 5])\n",
    "\n"
   ]
  },
  {
   "cell_type": "code",
   "execution_count": null,
   "id": "f4e5b629",
   "metadata": {},
   "outputs": [],
   "source": [
    "# Data type\n",
    "print(type(lst[0])) # <class 'int'>\n",
    "print(type(arr[0])) # <class 'numpy.int64'>\n",
    "\n"
   ]
  },
  {
   "cell_type": "code",
   "execution_count": null,
   "id": "dc0c8941",
   "metadata": {},
   "outputs": [],
   "source": [
    "# Memory efficiency\n",
    "print(lst.__sizeof__()) # 64 bytes\n",
    "print(arr.itemsize * arr.size) # 40 bytes\n",
    "\n"
   ]
  },
  {
   "cell_type": "code",
   "execution_count": null,
   "id": "fde1bda3",
   "metadata": {},
   "outputs": [],
   "source": [
    "# Speed\n",
    "lst = [i for i in range(100000)]\n",
    "arr = np.array(lst)\n",
    "%timeit sum(lst) # 2.53 ms ± 123 µs per loop\n",
    "%timeit np.sum(arr) # 14.8 µs ± 598 ns per loop\n",
    "\n"
   ]
  },
  {
   "cell_type": "code",
   "execution_count": null,
   "id": "c7f5c6a2",
   "metadata": {},
   "outputs": [],
   "source": [
    "# Broadcasting\n",
    "arr1 = np.array([[1, 2], [3, 4]])\n",
    "arr2 = np.array([10, 20])\n",
    "print(arr1 + arr2) # [[11, 22], [13, 24]]\n",
    "print(arr1 * arr2) # [[10, 40], [30, 80]]\n",
    "\n"
   ]
  },
  {
   "cell_type": "code",
   "execution_count": null,
   "id": "20f2ef4d",
   "metadata": {},
   "outputs": [],
   "source": [
    "# Indexing and slicing\n",
    "lst = [1, 2, 3, 4, 5]\n",
    "arr = np.array([1, 2, 3, 4, 5])\n",
    "print(lst[1:4]) # [2, 3, 4]\n",
    "print(arr[1:4]) # [2, 3, 4]\n",
    "print(arr[arr > 2]) # [3, 4, 5]\n",
    "\n"
   ]
  },
  {
   "cell_type": "code",
   "execution_count": null,
   "id": "cf2e9bfd",
   "metadata": {},
   "outputs": [],
   "source": [
    "# Operations\n",
    "lst = [1, 2, 3, 4, 5]\n",
    "arr = np.array([1, 2, 3, 4, 5])\n",
    "print(sum(lst)) # 15\n",
    "print(np.sum(arr)) # 15\n",
    "print(np.mean(arr)) # 3.0\n"
   ]
  },
  {
   "cell_type": "code",
   "execution_count": null,
   "id": "9dd3bbb1",
   "metadata": {},
   "outputs": [],
   "source": [
    "# Adding 2 2D arrays\n",
    "\n",
    "a = [[1, 2, 3], [4, 5, 6], [7, 8, 9]]\n",
    "b = [[9, 8, 7], [6, 5, 4], [3, 2, 1]]\n",
    "\n",
    "c = [[a[i][j] + b[i][j] for j in range(len(a[0]))] for i in range(len(a))]\n"
   ]
  },
  {
   "cell_type": "code",
   "execution_count": null,
   "id": "c54b4b24",
   "metadata": {},
   "outputs": [],
   "source": []
  },
  {
   "cell_type": "code",
   "execution_count": null,
   "id": "e64e3f44",
   "metadata": {},
   "outputs": [],
   "source": []
  },
  {
   "cell_type": "markdown",
   "id": "af37f106",
   "metadata": {},
   "source": [
    "### Assignment\n",
    "\n",
    "- Given two lists \n",
    "> a = [1, 2, 3]\n",
    "> b = [4, 5, 6]\n",
    "\n",
    "Add the elements of the two lists together as shown in Example 4 when numpy arrays were used.\n",
    "\n",
    "- Perform element-wise subtraction, multiplication and division operations on the two lists.\n",
    "\n",
    "- A flattened array can take 32 elements, how many other 2D arrays can be generated from the original array? Give code examples.\n"
   ]
  },
  {
   "cell_type": "code",
   "execution_count": null,
   "id": "a9ab57db",
   "metadata": {},
   "outputs": [],
   "source": []
  },
  {
   "cell_type": "code",
   "execution_count": null,
   "id": "484dc787",
   "metadata": {},
   "outputs": [],
   "source": []
  },
  {
   "cell_type": "code",
   "execution_count": null,
   "id": "a0a801a9",
   "metadata": {},
   "outputs": [],
   "source": []
  },
  {
   "cell_type": "markdown",
   "id": "a88e6bb1",
   "metadata": {},
   "source": [
    "## Basic Charts\n",
    "\n",
    "\n",
    "For these charts, we will be using a package known as Matplotlib.\n",
    "\n",
    "Matplotlib is a popular data visualization library in Python used for creating high-quality 2D graphs and plots. It provides a wide variety of customizable plots, such as line charts, scatter plots, bar charts, histograms, heatmaps, and more.\n",
    "\n",
    "Matplotlib is a versatile library that can be used in many different domains, including data analysis, scientific research, engineering, finance, and more. It can be used to visualize data for exploratory analysis, presentation, and publication.\n",
    "\n",
    "Matplotlib provides a simple and intuitive interface for creating plots, with a wide range of customization options for the appearance and style of the plots. It also supports interactive plotting, allowing users to interact with the plots and explore the data.\n",
    "\n",
    "In addition to its core functionality, Matplotlib has a large ecosystem of third-party packages and extensions that provide additional features and capabilities, such as statistical analysis, 3D plotting, and more."
   ]
  },
  {
   "cell_type": "code",
   "execution_count": null,
   "id": "f0fb3cbf",
   "metadata": {},
   "outputs": [],
   "source": []
  },
  {
   "cell_type": "markdown",
   "id": "6542e96e",
   "metadata": {},
   "source": [
    "### Basic Shapes"
   ]
  },
  {
   "cell_type": "markdown",
   "id": "5d1d5875",
   "metadata": {},
   "source": [
    "### Line:"
   ]
  },
  {
   "cell_type": "code",
   "execution_count": 8,
   "id": "7cb13942",
   "metadata": {},
   "outputs": [
    {
     "data": {
      "image/png": "[encoded data removed]",
      "text/plain": [
       "<Figure size 640x480 with 1 Axes>"
      ]
     },
     "metadata": {},
     "output_type": "display_data"
    }
   ],
   "source": [
    "import matplotlib.pyplot as plt\n",
    "plt.axes()\n",
    "line = plt.Line2D((2, 8), (6,7), lw=1.5)\n",
    "plt.gca().add_line(line)\n",
    "plt.axis('scaled')\n",
    "plt.show()"
   ]
  },
  {
   "cell_type": "markdown",
   "id": "bd0210fb",
   "metadata": {},
   "source": [
    "**plt.axes():**\n",
    "The plt.axes() code creates an empty plot or axes. By default, this will create a plot with a single subplot.\n",
    "\n",
    "\n",
    "**plt.Line2D:**\n",
    "This line creates a Line2D object, which represents a straight line in a plot. The Line2D constructor takes two tuples of x and y coordinates as arguments, which specify the start and end points of the line. In this case, the line starts at (2, 6) and ends at (8, 7). The lw parameter sets the line width to 1.5.\n",
    "\n",
    "\n",
    "**plt.gca().add_line(line):**\n",
    "This line adds the Line2D object to the current axis, which was created by plt.axes() in the first line of the code. plt.gca() returns the current axis, and add_line() adds the line to the axis.\n",
    "\n",
    "\n",
    "**plt.axies('scaled'):**\n",
    "This line sets the aspect ratio of the plot to be equal in both the x and y directions, using the 'scaled' argument.\n",
    "\n",
    "\n",
    "**plt.show():**\n",
    "This line displays the plot. plt.show() should be called after all the elements of the plot have been added to the axis, and any formatting or customization has been applied."
   ]
  },
  {
   "cell_type": "code",
   "execution_count": null,
   "id": "08feaae1",
   "metadata": {},
   "outputs": [],
   "source": []
  },
  {
   "cell_type": "markdown",
   "id": "7ff39ae0",
   "metadata": {},
   "source": [
    "### Rectangle"
   ]
  },
  {
   "cell_type": "code",
   "execution_count": 9,
   "id": "e731a714",
   "metadata": {},
   "outputs": [
    {
     "data": {
      "image/png": "[encoded data removed]",
      "text/plain": [
       "<Figure size 640x480 with 1 Axes>"
      ]
     },
     "metadata": {},
     "output_type": "display_data"
    }
   ],
   "source": [
    "plt.axes()   # create an empty set of axes\n",
    "\n",
    "# create a Rectangle object with the bottom left corner at (0,0), width 50, height 20,\n",
    "# fill color 'blue', and edge color 'red'\n",
    "rectangle = plt.Rectangle((0,0), 50, 20, fc='blue', ec=\"red\")\n",
    "\n",
    "# add the Rectangle object to the current axis\n",
    "plt.gca().add_patch(rectangle)\n",
    "\n",
    "# set the aspect ratio of the plot to be equal in both x and y directions\n",
    "plt.axis('scaled')\n",
    "\n",
    "# display the plot\n",
    "plt.show()\n"
   ]
  },
  {
   "cell_type": "code",
   "execution_count": null,
   "id": "9cff35c2",
   "metadata": {},
   "outputs": [],
   "source": []
  },
  {
   "cell_type": "markdown",
   "id": "40a648d6",
   "metadata": {},
   "source": [
    "### Circle"
   ]
  },
  {
   "cell_type": "code",
   "execution_count": null,
   "id": "f336989c",
   "metadata": {},
   "outputs": [],
   "source": [
    "plt.axes()  # create an empty set of axes\n",
    "\n",
    "# create a Circle object with center at (0, 0), radius 1.5,\n",
    "# fill color 'blue', and edge color 'red'\n",
    "circle = plt.Circle((0, 0), 1.5, fc='blue', ec='red')\n",
    "\n",
    "# add the Circle object to the current axis\n",
    "plt.gca().add_patch(circle)\n",
    "\n",
    "# set the aspect ratio of the plot to be equal in both x and y directions\n",
    "plt.axis('scaled')\n",
    "\n",
    "# display the plot\n",
    "plt.show()\n"
   ]
  },
  {
   "cell_type": "code",
   "execution_count": null,
   "id": "ff7706f4",
   "metadata": {},
   "outputs": [],
   "source": []
  },
  {
   "cell_type": "markdown",
   "id": "4321e4f2",
   "metadata": {},
   "source": [
    "### Triangle"
   ]
  },
  {
   "cell_type": "code",
   "execution_count": 10,
   "id": "b613e457",
   "metadata": {},
   "outputs": [
    {
     "data": {
      "image/png": "[encoded data removed]",
      "text/plain": [
       "<Figure size 640x480 with 1 Axes>"
      ]
     },
     "metadata": {},
     "output_type": "display_data"
    }
   ],
   "source": [
    "import numpy as np   # import the numpy module\n",
    "import matplotlib.pyplot as plt   # import the pyplot module from matplotlib\n",
    "from matplotlib.patches import Polygon   # import the Polygon class from matplotlib.patches\n",
    "\n",
    "# create an array of three points, which form a triangle\n",
    "pts = np.array([[2, 2], [6, 5], [3, np.sqrt(5**2 - 2**2)]])\n",
    "\n",
    "# create a Polygon object with the given points, but do not close the shape\n",
    "p = Polygon(pts, closed=False)\n",
    "\n",
    "# get the current axes object\n",
    "ax = plt.gca()\n",
    "\n",
    "# add the Polygon object to the current axes object\n",
    "ax.add_patch(p)\n",
    "\n",
    "# set the x-axis limits to 1 and 7\n",
    "ax.set_xlim(1, 7)\n",
    "\n",
    "# set the y-axis limits to 1 and 8\n",
    "ax.set_ylim(1, 8)\n",
    "\n",
    "# display the plot\n",
    "plt.show()\n"
   ]
  },
  {
   "cell_type": "code",
   "execution_count": null,
   "id": "4ba4ee9a",
   "metadata": {},
   "outputs": [],
   "source": []
  },
  {
   "cell_type": "markdown",
   "id": "d0292ab0",
   "metadata": {},
   "source": [
    "With the above and more that can be found on the [matplotlib website](https://matplotlib.org/stable/gallery/shapes_and_collections/patch_collection.html#sphx-glr-gallery-shapes-and-collections-patch-collection-py), we can create various shapes which can be used to enhance the visual appeal of our plots and make them more informative. By leveraging the rich set of shapes and collections provided by Matplotlib, we can unleash our creativity and produce beautiful and engaging visualizations that effectively communicate our data and ideas. The Matplotlib website offers many examples and tutorials on how to use these shapes in our plots and take advantage of their full potential.\n",
    "\n",
    "The code snippet below creates the United states flag:"
   ]
  },
  {
   "cell_type": "markdown",
   "id": "7046372c",
   "metadata": {},
   "source": [
    "The way to draw on matplotlib usually has a lot of trial and error involved with it. It is usually best to start the with parts you can easily figure out and then, as the difficulty increases, you can consult the matplotlib documentation or other websites to help troubleshoot your code."
   ]
  },
  {
   "cell_type": "markdown",
   "id": "a1bb0e00",
   "metadata": {},
   "source": [
    "### Creating the flag of the United States of America\n",
    "\n",
    "#### Creating the Red rectangles of the flag:"
   ]
  },
  {
   "cell_type": "code",
   "execution_count": 13,
   "id": "a37aa8ce",
   "metadata": {},
   "outputs": [
    {
     "data": {
      "text/plain": [
       "<matplotlib.patches.Rectangle at 0x622f1910>"
      ]
     },
     "execution_count": 13,
     "metadata": {},
     "output_type": "execute_result"
    },
    {
     "data": {
      "image/png": "[encoded data removed]",
      "text/plain": [
       "<Figure size 640x480 with 1 Axes>"
      ]
     },
     "metadata": {},
     "output_type": "display_data"
    }
   ],
   "source": [
    "rectangle = plt.Rectangle((0,0), 5, 1, fc='red')\n",
    "\n",
    "# add the Rectangle object to the current axis\n",
    "plt.gca().add_patch(rectangle)"
   ]
  },
  {
   "cell_type": "markdown",
   "id": "7015389b",
   "metadata": {},
   "source": [
    "There are 13 red rectangles, so we can use a for loop to create them. The first rectangle can start at point (0, 0) but then the next rectangle should be (0, 2) indicating that it is 2 units above first rectangle. Then, the next rectangle should be (0, 4) and so on. We can achieve this using the add_patch method. Below, we have defined the rectangle to be 5 units by 0.5 units. So all we just have to do is us a loop to increment the number of rectangles as follows:"
   ]
  },
  {
   "cell_type": "code",
   "execution_count": 21,
   "id": "1415b5ab",
   "metadata": {},
   "outputs": [
    {
     "data": {
      "image/png": "[encoded data removed]",
      "text/plain": [
       "<Figure size 640x480 with 1 Axes>"
      ]
     },
     "metadata": {},
     "output_type": "display_data"
    }
   ],
   "source": [
    "fig, ax = plt.subplots()\n",
    "for i in range(0, 13, 2):\n",
    "    ax.add_patch(plt.Rectangle((0,i *0.5/13), 5, 0.5/13, fc='red'))\n",
    "    "
   ]
  },
  {
   "cell_type": "code",
   "execution_count": null,
   "id": "d1e7ef9f",
   "metadata": {},
   "outputs": [],
   "source": []
  },
  {
   "cell_type": "markdown",
   "id": "474e113d",
   "metadata": {},
   "source": [
    "Next, there is a blue rectangle to the top left of the flag. Again we use the add_patch method and define its center, length, and width. The center has to be some height above the (0,0) point. We can use the height of the red stripes to guage what that would look like. We can center the blue rectangle around where the 7th rectangle is. Also, we don't want the blue rectangle to be the entire length of the flag so we limit it to half of the flag by dividing the length by 2. And lastly, since the blue rectangle begins at a point 7 units above the (0,0), the height of the blue rectangle should take up the remaining 6 units out of 13, therefore, the height parameter of the add_patch method is multiplied by 6."
   ]
  },
  {
   "cell_type": "code",
   "execution_count": 28,
   "id": "e34e9d2c",
   "metadata": {},
   "outputs": [
    {
     "data": {
      "text/plain": [
       "<matplotlib.patches.Rectangle at 0x626e61c0>"
      ]
     },
     "execution_count": 28,
     "metadata": {},
     "output_type": "execute_result"
    },
    {
     "data": {
      "image/png": "[encoded data removed]",
      "text/plain": [
       "<Figure size 640x480 with 1 Axes>"
      ]
     },
     "metadata": {},
     "output_type": "display_data"
    }
   ],
   "source": [
    "fig, ax = plt.subplots()\n",
    "\n",
    "for i in range(0, 13, 2):\n",
    "    ax.add_patch(plt.Rectangle((0,i *0.5/13), 1, 0.5/13, fc='red'))\n",
    "    \n",
    "ax.add_patch(plt.Rectangle((0, 7 * 0.5 / 13), 1/2, 6 * 0.5 / 13, facecolor=\"blue\"))"
   ]
  },
  {
   "cell_type": "code",
   "execution_count": null,
   "id": "7ad0544f",
   "metadata": {},
   "outputs": [],
   "source": []
  },
  {
   "cell_type": "code",
   "execution_count": null,
   "id": "99720ae7",
   "metadata": {},
   "outputs": [],
   "source": []
  },
  {
   "cell_type": "markdown",
   "id": "c0fcacfe",
   "metadata": {},
   "source": [
    "The complete code is given below:"
   ]
  },
  {
   "cell_type": "code",
   "execution_count": 1,
   "id": "4d43995e",
   "metadata": {},
   "outputs": [
    {
     "data": {
      "image/png": "[encoded data removed]",
      "text/plain": [
       "<Figure size 640x480 with 1 Axes>"
      ]
     },
     "metadata": {},
     "output_type": "display_data"
    }
   ],
   "source": [
    "import matplotlib.pyplot as plt\n",
    "import numpy as np\n",
    "\n",
    "# Define the dimensions of the flag\n",
    "width = 1.0\n",
    "height = 0.5 * width / 1.9\n",
    "\n",
    "# Define the colors of the flag\n",
    "red = \"#bf0a30\"\n",
    "blue = \"#002868\"\n",
    "white = \"#ffffff\"\n",
    "\n",
    "# Create a figure and axis object\n",
    "fig, ax = plt.subplots()\n",
    "\n",
    "# Draw the background rectangle\n",
    "ax.add_patch(plt.Rectangle((0, 0), width, height, facecolor=white))\n",
    "\n",
    "# Draw the red stripes\n",
    "for i in range(0, 13, 2):\n",
    "    ax.add_patch(plt.Rectangle((0, i * height / 13), width, height / 13, facecolor=red))\n",
    "\n",
    "# Draw the blue rectangle\n",
    "ax.add_patch(plt.Rectangle((0, 7 * height / 13), width / 2, 6 * height / 13, facecolor=blue))\n",
    "\n",
    "# Draw the white stars\n",
    "nrows = 5\n",
    "ncols = 6\n",
    "spacing = 0.06 * width\n",
    "star_size = 0.003 * width\n",
    "y, x = np.indices((nrows, ncols))\n",
    "x = spacing + x * (star_size + spacing)\n",
    "y = spacing + y * (star_size + spacing) + 7 * height / 13\n",
    "xy = np.column_stack([x.flat, y.flat])\n",
    "idx = np.arange(0, xy.shape[0], 2)\n",
    "xy[idx, 1] -= star_size / 2\n",
    "xy[idx + 1, 1] += star_size / 2\n",
    "star = plt.Polygon(xy, facecolor=white, edgecolor=white, linewidth=1, zorder=10)\n",
    "ax.add_patch(star)\n",
    "\n",
    "# Set the axis limits and remove the ticks\n",
    "ax.set_xlim(0, width)\n",
    "ax.set_ylim(0, height)\n",
    "ax.set_xticks([])\n",
    "ax.set_yticks([])\n",
    "\n",
    "# Show the plot\n",
    "plt.show()\n"
   ]
  },
  {
   "cell_type": "code",
   "execution_count": null,
   "id": "c39b3b8e",
   "metadata": {},
   "outputs": [],
   "source": []
  },
  {
   "cell_type": "markdown",
   "id": "d113224a",
   "metadata": {},
   "source": [
    "### Assignment\n",
    "\n",
    "- Create a rectangle with the line2D function in matplotlib\n",
    "- Create the Nigerian flag"
   ]
  },
  {
   "cell_type": "code",
   "execution_count": null,
   "id": "9e69860e",
   "metadata": {},
   "outputs": [],
   "source": []
  },
  {
   "cell_type": "code",
   "execution_count": null,
   "id": "9417315d",
   "metadata": {},
   "outputs": [],
   "source": []
  },
  {
   "cell_type": "markdown",
   "id": "098deb07",
   "metadata": {},
   "source": [
    "### Plotting linear, quadratic, and cubic functions"
   ]
  },
  {
   "cell_type": "code",
   "execution_count": 29,
   "id": "db0ba4be",
   "metadata": {},
   "outputs": [
    {
     "data": {
      "image/png": "[encoded data removed]",
      "text/plain": [
       "<Figure size 640x480 with 1 Axes>"
      ]
     },
     "metadata": {},
     "output_type": "display_data"
    }
   ],
   "source": [
    "import numpy as np\n",
    "import matplotlib.pyplot as plt\n",
    "\n",
    "# Create a range of x values\n",
    "x = np.linspace(-5, 5, 100)\n",
    "\n",
    "# Define the linear equation\n",
    "y_linear = x\n",
    "\n",
    "# Define the quadratic equation\n",
    "y_quadratic = x**2\n",
    "\n",
    "# Define the cubic equation\n",
    "y_cubic = x**3\n",
    "\n",
    "# Create a figure and axis object\n",
    "fig, ax = plt.subplots()\n",
    "\n",
    "# Plot the linear equation\n",
    "ax.plot(x, y_linear, label='Linear')\n",
    "\n",
    "# Plot the quadratic equation\n",
    "ax.plot(x, y_quadratic, label='Quadratic')\n",
    "\n",
    "# Plot the cubic equation\n",
    "ax.plot(x, y_cubic, label='Cubic')\n",
    "\n",
    "# Add labels and legend\n",
    "ax.set_xlabel('X')\n",
    "ax.set_ylabel('Y')\n",
    "ax.legend()\n",
    "\n",
    "# Show the plot\n",
    "plt.show()\n"
   ]
  },
  {
   "cell_type": "code",
   "execution_count": null,
   "id": "f148b0d5",
   "metadata": {},
   "outputs": [],
   "source": []
  },
  {
   "cell_type": "markdown",
   "id": "69550b51",
   "metadata": {},
   "source": [
    "### Plotting sinusoidal functions"
   ]
  },
  {
   "cell_type": "code",
   "execution_count": 30,
   "id": "c11d9563",
   "metadata": {},
   "outputs": [
    {
     "data": {
      "image/png": "[encoded data removed]",
      "text/plain": [
       "<Figure size 640x480 with 1 Axes>"
      ]
     },
     "metadata": {},
     "output_type": "display_data"
    }
   ],
   "source": [
    "import numpy as np\n",
    "import matplotlib.pyplot as plt\n",
    "\n",
    "# Create a range of x values\n",
    "x = np.linspace(-np.pi, np.pi, 100)\n",
    "\n",
    "# Define the sinusoidal function\n",
    "y = np.sin(x)\n",
    "\n",
    "# Create a figure and axis object\n",
    "fig, ax = plt.subplots()\n",
    "\n",
    "# Plot the sinusoidal function\n",
    "ax.plot(x, y, label='Sinusoidal')\n",
    "\n",
    "# Add labels and legend\n",
    "ax.set_xlabel('X')\n",
    "ax.set_ylabel('Y')\n",
    "ax.legend()\n",
    "\n",
    "# Show the plot\n",
    "plt.show()\n"
   ]
  },
  {
   "cell_type": "code",
   "execution_count": null,
   "id": "b481fece",
   "metadata": {},
   "outputs": [],
   "source": []
  },
  {
   "cell_type": "markdown",
   "id": "5a344391",
   "metadata": {},
   "source": [
    "### Plotting basic statistical charts"
   ]
  },
  {
   "cell_type": "markdown",
   "id": "6f67289c",
   "metadata": {},
   "source": [
    "#### Pie chart"
   ]
  },
  {
   "cell_type": "code",
   "execution_count": 31,
   "id": "257f4c3c",
   "metadata": {},
   "outputs": [
    {
     "data": {
      "image/png": "[encoded data removed]",
      "text/plain": [
       "<Figure size 640x480 with 1 Axes>"
      ]
     },
     "metadata": {},
     "output_type": "display_data"
    }
   ],
   "source": [
    "import matplotlib.pyplot as plt\n",
    "\n",
    "# Define data for the pie chart\n",
    "labels = ['Apples', 'Bananas', 'Oranges']\n",
    "sizes = [30, 40, 20]\n",
    "colors = ['red', 'yellow', 'orange']\n",
    "\n",
    "# Create a figure and axis object\n",
    "fig, ax = plt.subplots()\n",
    "\n",
    "# Plot the pie chart\n",
    "ax.pie(sizes, labels=labels, colors=colors, autopct='%1.1f%%', startangle=90)\n",
    "\n",
    "# Add a title\n",
    "ax.set_title('Fruit Distribution')\n",
    "\n",
    "# Show the plot\n",
    "plt.show()\n"
   ]
  },
  {
   "cell_type": "code",
   "execution_count": null,
   "id": "efea541d",
   "metadata": {},
   "outputs": [],
   "source": []
  },
  {
   "cell_type": "markdown",
   "id": "c48b9e05",
   "metadata": {},
   "source": [
    "#### Bar chart"
   ]
  },
  {
   "cell_type": "code",
   "execution_count": 32,
   "id": "7801ab8a",
   "metadata": {},
   "outputs": [
    {
     "data": {
      "image/png": "[encoded data removed]",
      "text/plain": [
       "<Figure size 640x480 with 1 Axes>"
      ]
     },
     "metadata": {},
     "output_type": "display_data"
    }
   ],
   "source": [
    "import matplotlib.pyplot as plt\n",
    "\n",
    "# Define data for the bar graph\n",
    "labels = ['Apples', 'Bananas', 'Oranges']\n",
    "values = [30, 40, 20]\n",
    "colors = ['red', 'yellow', 'orange']\n",
    "\n",
    "# Create a figure and axis object\n",
    "fig, ax = plt.subplots()\n",
    "\n",
    "# Plot the bar graph\n",
    "ax.bar(labels, values, color=colors)\n",
    "\n",
    "# Add labels and a title\n",
    "ax.set_xlabel('Fruit')\n",
    "ax.set_ylabel('Quantity')\n",
    "ax.set_title('Fruit Distribution')\n",
    "\n",
    "# Show the plot\n",
    "plt.show()\n"
   ]
  },
  {
   "cell_type": "code",
   "execution_count": null,
   "id": "88d00ce9",
   "metadata": {},
   "outputs": [],
   "source": []
  },
  {
   "cell_type": "markdown",
   "id": "6be294da",
   "metadata": {},
   "source": [
    "#### Histogram"
   ]
  },
  {
   "cell_type": "code",
   "execution_count": 33,
   "id": "cec3089d",
   "metadata": {},
   "outputs": [
    {
     "data": {
      "image/png": "[encoded data removed]",
      "text/plain": [
       "<Figure size 640x480 with 1 Axes>"
      ]
     },
     "metadata": {},
     "output_type": "display_data"
    }
   ],
   "source": [
    "import numpy as np\n",
    "import matplotlib.pyplot as plt\n",
    "\n",
    "# Generate random data\n",
    "data = np.random.normal(size=1000)\n",
    "\n",
    "# Create a figure and axis object\n",
    "fig, ax = plt.subplots()\n",
    "\n",
    "# Plot the histogram\n",
    "ax.hist(data, bins=30, density=True)\n",
    "\n",
    "# Add labels and a title\n",
    "ax.set_xlabel('Value')\n",
    "ax.set_ylabel('Frequency')\n",
    "ax.set_title('Histogram of Random Data')\n",
    "\n",
    "# Show the plot\n",
    "plt.show()\n"
   ]
  },
  {
   "cell_type": "code",
   "execution_count": null,
   "id": "6e36e024",
   "metadata": {},
   "outputs": [],
   "source": [
    "\n"
   ]
  },
  {
   "cell_type": "markdown",
   "id": "f6536526",
   "metadata": {},
   "source": [
    "#### Normal Curve"
   ]
  },
  {
   "cell_type": "code",
   "execution_count": 36,
   "id": "e631dcee",
   "metadata": {},
   "outputs": [
    {
     "data": {
      "image/png": "[encoded data removed]",
      "text/plain": [
       "<Figure size 640x480 with 1 Axes>"
      ]
     },
     "metadata": {},
     "output_type": "display_data"
    }
   ],
   "source": [
    "import numpy as np\n",
    "import matplotlib.pyplot as plt\n",
    "\n",
    "# Generate x-values and y-values for a normal distribution\n",
    "x = np.linspace(-5, 5, 100)\n",
    "y = 1/(np.sqrt(2*np.pi)) * np.exp(-0.5*x**2)\n",
    "\n",
    "# Create a figure and axis object\n",
    "fig, ax = plt.subplots()\n",
    "\n",
    "# Plot the normal curve\n",
    "ax.plot(x, y)\n",
    "\n",
    "# Add labels and a title\n",
    "ax.set_xlabel('Value')\n",
    "ax.set_ylabel('Density')\n",
    "ax.set_title('Normal Curve')\n",
    "\n",
    "# Show the plot\n",
    "plt.show()\n"
   ]
  },
  {
   "cell_type": "markdown",
   "id": "8897aa8b",
   "metadata": {},
   "source": [
    "### More about the Normal curve:\n",
    "\n",
    "\n",
    "The normal curve is a special curve that looks like a bell. It's like drawing a picture of a mountain with a rounded top.\n",
    "\n",
    "We use this curve to help us understand things that happen by chance, like how tall people are or how many toys they have. When we measure lots of people, we might find that most of them are about the same height or have about the same number of toys. That's why the top of the curve is in the middle, showing the most common thing we measured.\n",
    "\n",
    "But some people are taller or shorter than the most common height, or have more or fewer toys than the most common number. That's why the curve gets smaller on the sides, showing the less common things we measured.\n",
    "\n",
    "By looking at this curve, we can learn how likely it is that we will measure something that is very common or something that is less common. It helps us understand how things are usually distributed when we measure them.\n",
    "\n",
    "\n",
    "#### More formally...\n",
    "\n",
    "The normal curve, also known as the Gaussian distribution, is a mathematical function that describes a symmetrical bell-shaped curve. It is a probability distribution that is commonly used to model random variables that have a normal or bell-shaped distribution, such as the heights of people or the scores on a test.\n",
    "\n",
    "The normal curve has two parameters: the mean, which is the center of the curve, and the standard deviation, which controls the spread of the curve. The mean represents the average value of the data, while the standard deviation represents how much the data varies from the mean. The shape of the normal curve is determined by these two parameters.\n",
    "\n",
    "The normal curve is commonly seen in reality in many different fields. For example, in biology, the height of a population of individuals may be normally distributed, with most individuals clustering around the mean height and fewer individuals at the extreme ends of the distribution. In finance, stock prices may follow a normal distribution, with most prices clustering around the mean price and fewer prices at the extreme high or low prices.\n",
    "\n",
    "The normal curve can be used to predict the probability of observing a certain value or range of values for a random variable. For example, if we know that a certain population follows a normal distribution with a mean height of 5 feet and a standard deviation of 1 inch, we can use the normal curve to predict the probability of observing an individual with a height of 6 feet or more. We can also use the normal curve to calculate confidence intervals for estimates of population parameters, such as the mean or variance.\n",
    "\n",
    "\n",
    "\n",
    "![Normal Distribution](https://www.scribbr.de/wp-content/uploads/2023/01/Standard-normal-distribution.webp)\n",
    "\n",
    "\n",
    "\n",
    "### Examples:\n",
    "\n",
    "#### In Education\n",
    "The normal curve can be used in education to analyze and interpret test scores. Let's say that a teacher has given a test to a class of 30 students and wants to determine how the class performed overall. The teacher can use the normal curve to analyze the distribution of test scores and determine how many students scored within certain ranges.\n",
    "\n",
    "First, the teacher would calculate the mean and standard deviation of the test scores. The mean is the average score of the class, and the standard deviation measures how spread out the scores are from the mean. For example, if the mean score is 75 and the standard deviation is 10, this means that most students scored around 75, and the scores were spread out by about 10 points on either side.\n",
    "\n",
    "Next, the teacher can use the normal curve to determine the percentage of students who scored within certain ranges. The normal curve is a bell-shaped curve that shows the distribution of scores in a population. In a normal distribution, approximately 68% of scores fall within one standard deviation of the mean, 95% fall within two standard deviations, and 99.7% fall within three standard deviations.\n",
    "\n",
    "So, for example, if the mean score is 75 and the standard deviation is 10, the teacher can use the normal curve to determine that approximately:\n",
    "\n",
    "- 68% of students scored between 65 and 85\n",
    "- 95% of students scored between 55 and 95\n",
    "- 99.7% of students scored between 45 and 105\n",
    "\n",
    "The teacher can use this information to evaluate how well the class performed overall and to identify students who may need extra help or enrichment. For example, if a student scored significantly below the mean, the teacher may want to provide additional support to help that student catch up. On the other hand, if a student scored significantly above the mean, the teacher may want to provide enrichment opportunities to challenge that student.\n",
    "\n",
    "Additionally, the normal curve can also be used to set grade boundaries for the test. For example, if the teacher wants to use a grading system that is based on standard deviations from the mean, they could set the cutoffs for each grade level accordingly. For instance, students who scored one standard deviation above the mean might receive an A, while students who scored one standard deviation below the mean might receive a C.\n",
    "\n",
    "Overall, the normal curve can provide a useful framework for interpreting test scores in education and making informed decisions about student performance and support.\n",
    "\n",
    "\n",
    "\n",
    "\n",
    "#### In Medicine\n",
    "One example of how the normal curve can be used in medicine is to analyze the distribution of blood pressure readings in a population and to determine the normal range of values for blood pressure.\n",
    "\n",
    "Let's say that a doctor wants to determine if a patient's blood pressure is within the normal range. The doctor will take the patient's blood pressure reading, which is expressed as two numbers: systolic pressure (the top number) and diastolic pressure (the bottom number). The doctor will compare the patient's blood pressure reading to the normal range of values for blood pressure, which is determined using the normal curve.\n",
    "\n",
    "The normal range of values for blood pressure is determined by analyzing a large sample of blood pressure readings from a population and calculating the mean and standard deviation of the readings. The mean blood pressure is the average reading for the population, and the standard deviation measures how much variation there is in the readings.\n",
    "\n",
    "For example, let's say that the mean blood pressure for a population is 120/80 mmHg, and the standard deviation is 10/5 mmHg. This means that most people in the population have a blood pressure reading around 120/80 mmHg, and the readings are spread out by about 10/5 mmHg on either side.\n",
    "\n",
    "Using the normal curve, the doctor can determine the percentage of the population that falls within a certain range of blood pressure readings. For example, approximately:\n",
    "\n",
    "- 68% of the population has a blood pressure reading between 110/75 mmHg and 130/85 mmHg (one standard deviation from the mean)\n",
    "- 95% of the population has a blood pressure reading between 100/70 mmHg and 140/90 mmHg (two standard deviations from the mean)\n",
    "- 99.7% of the population has a blood pressure reading between 90/65 mmHg and 150/95 mmHg (three standard deviations from the mean)\n",
    "\n",
    "The doctor can use this information to determine if a patient's blood pressure is within the normal range. If a patient's blood pressure falls outside the normal range, the doctor may want to monitor the patient's blood pressure more closely and consider treatment options to lower or raise the blood pressure as needed.\n",
    "\n",
    "In addition to blood pressure, the normal curve is used to analyze and interpret many other physiological variables in medicine, such as heart rate, body temperature, and cholesterol levels. By using the normal curve to determine the normal range of values for these variables, doctors can identify abnormalities that may indicate health problems and make informed decisions about patient care.\n",
    "\n",
    "\n",
    "\n",
    "\n"
   ]
  },
  {
   "cell_type": "code",
   "execution_count": null,
   "id": "eae31daa",
   "metadata": {},
   "outputs": [],
   "source": []
  },
  {
   "cell_type": "code",
   "execution_count": null,
   "id": "0ce66689",
   "metadata": {},
   "outputs": [],
   "source": []
  },
  {
   "cell_type": "code",
   "execution_count": null,
   "id": "d87bd9d7",
   "metadata": {},
   "outputs": [],
   "source": []
  },
  {
   "cell_type": "code",
   "execution_count": null,
   "id": "06f8977b",
   "metadata": {},
   "outputs": [],
   "source": []
  },
  {
   "cell_type": "code",
   "execution_count": null,
   "id": "a4fae68d",
   "metadata": {},
   "outputs": [],
   "source": []
  },
  {
   "cell_type": "code",
   "execution_count": null,
   "id": "f6e21e54",
   "metadata": {},
   "outputs": [],
   "source": []
  },
  {
   "cell_type": "code",
   "execution_count": null,
   "id": "d20bef1c",
   "metadata": {},
   "outputs": [],
   "source": []
  },
  {
   "cell_type": "code",
   "execution_count": null,
   "id": "c1ea7e47",
   "metadata": {},
   "outputs": [],
   "source": []
  },
  {
   "cell_type": "code",
   "execution_count": null,
   "id": "27368b51",
   "metadata": {},
   "outputs": [],
   "source": []
  },
  {
   "cell_type": "code",
   "execution_count": null,
   "id": "0eb0356d",
   "metadata": {},
   "outputs": [],
   "source": []
  },
  {
   "cell_type": "code",
   "execution_count": null,
   "id": "5d00e566",
   "metadata": {},
   "outputs": [],
   "source": []
  },
  {
   "cell_type": "code",
   "execution_count": null,
   "id": "fb978de9",
   "metadata": {},
   "outputs": [],
   "source": []
  },
  {
   "cell_type": "code",
   "execution_count": null,
   "id": "b3932f07",
   "metadata": {},
   "outputs": [],
   "source": []
  },
  {
   "cell_type": "code",
   "execution_count": null,
   "id": "fb482833",
   "metadata": {},
   "outputs": [],
   "source": []
  },
  {
   "cell_type": "code",
   "execution_count": null,
   "id": "7c39b566",
   "metadata": {},
   "outputs": [],
   "source": []
  },
  {
   "cell_type": "code",
   "execution_count": null,
   "id": "d9e38672",
   "metadata": {},
   "outputs": [],
   "source": []
  },
  {
   "cell_type": "code",
   "execution_count": null,
   "id": "caf4f87e",
   "metadata": {},
   "outputs": [],
   "source": []
  },
  {
   "cell_type": "code",
   "execution_count": null,
   "id": "ca0f42d0",
   "metadata": {},
   "outputs": [],
   "source": []
  },
  {
   "cell_type": "code",
   "execution_count": null,
   "id": "467666cb",
   "metadata": {},
   "outputs": [],
   "source": []
  },
  {
   "cell_type": "code",
   "execution_count": null,
   "id": "fa3e02de",
   "metadata": {},
   "outputs": [],
   "source": []
  },
  {
   "cell_type": "code",
   "execution_count": null,
   "id": "edd9d0c3",
   "metadata": {},
   "outputs": [],
   "source": []
  },
  {
   "cell_type": "code",
   "execution_count": null,
   "id": "1e0b5554",
   "metadata": {},
   "outputs": [],
   "source": []
  },
  {
   "cell_type": "code",
   "execution_count": null,
   "id": "4da0e10b",
   "metadata": {},
   "outputs": [],
   "source": []
  },
  {
   "cell_type": "code",
   "execution_count": null,
   "id": "cee84581",
   "metadata": {},
   "outputs": [],
   "source": []
  },
  {
   "cell_type": "code",
   "execution_count": null,
   "id": "cac7e7ec",
   "metadata": {},
   "outputs": [],
   "source": []
  },
  {
   "cell_type": "code",
   "execution_count": null,
   "id": "befe5798",
   "metadata": {},
   "outputs": [],
   "source": []
  },
  {
   "cell_type": "code",
   "execution_count": null,
   "id": "8a480ccd",
   "metadata": {},
   "outputs": [],
   "source": []
  },
  {
   "cell_type": "code",
   "execution_count": null,
   "id": "8b4ae30b",
   "metadata": {},
   "outputs": [],
   "source": []
  },
  {
   "cell_type": "code",
   "execution_count": null,
   "id": "5b161f51",
   "metadata": {},
   "outputs": [],
   "source": []
  },
  {
   "cell_type": "code",
   "execution_count": null,
   "id": "af6d9633",
   "metadata": {},
   "outputs": [],
   "source": []
  },
  {
   "cell_type": "code",
   "execution_count": null,
   "id": "180280a2",
   "metadata": {},
   "outputs": [],
   "source": []
  },
  {
   "cell_type": "code",
   "execution_count": null,
   "id": "163b308d",
   "metadata": {},
   "outputs": [],
   "source": []
  },
  {
   "cell_type": "code",
   "execution_count": null,
   "id": "f8b6080a",
   "metadata": {},
   "outputs": [],
   "source": []
  },
  {
   "cell_type": "code",
   "execution_count": null,
   "id": "a9f693ac",
   "metadata": {},
   "outputs": [],
   "source": []
  },
  {
   "cell_type": "code",
   "execution_count": null,
   "id": "98d8d2ab",
   "metadata": {},
   "outputs": [],
   "source": []
  },
  {
   "cell_type": "code",
   "execution_count": null,
   "id": "7b7bcf22",
   "metadata": {},
   "outputs": [],
   "source": []
  },
  {
   "cell_type": "code",
   "execution_count": null,
   "id": "f37164c3",
   "metadata": {},
   "outputs": [],
   "source": []
  },
  {
   "cell_type": "code",
   "execution_count": null,
   "id": "7e1ca73f",
   "metadata": {},
   "outputs": [],
   "source": []
  },
  {
   "cell_type": "code",
   "execution_count": null,
   "id": "a17f21f3",
   "metadata": {},
   "outputs": [],
   "source": []
  },
  {
   "cell_type": "code",
   "execution_count": null,
   "id": "22a3d948",
   "metadata": {},
   "outputs": [],
   "source": []
  }
 ],
 "metadata": {
  "kernelspec": {
   "display_name": "Python 3 (ipykernel)",
   "language": "python",
   "name": "python3"
  },
  "language_info": {
   "codemirror_mode": {
    "name": "ipython",
    "version": 3
   },
   "file_extension": ".py",
   "mimetype": "text/x-python",
   "name": "python",
   "nbconvert_exporter": "python",
   "pygments_lexer": "ipython3",
   "version": "3.9.13"
  }
 },
 "nbformat": 4,
 "nbformat_minor": 5
}
